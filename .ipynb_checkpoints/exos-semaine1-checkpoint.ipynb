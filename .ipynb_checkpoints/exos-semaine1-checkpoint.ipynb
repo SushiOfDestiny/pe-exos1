{
 "cells": [
  {
   "cell_type": "code",
   "execution_count": 17,
   "id": "54c888aa",
   "metadata": {},
   "outputs": [
    {
     "data": {
      "text/plain": [
       "'1.23.2'"
      ]
     },
     "execution_count": 17,
     "metadata": {},
     "output_type": "execute_result"
    }
   ],
   "source": [
    "import numpy as np\n",
    "import matplotlib.pyplot as plt\n",
    "np.__version__"
   ]
  },
  {
   "cell_type": "code",
   "execution_count": 34,
   "id": "4716b113",
   "metadata": {},
   "outputs": [
    {
     "data": {
      "image/png": "[encoded data removed]",
      "text/plain": [
       "<Figure size 640x480 with 1 Axes>"
      ]
     },
     "metadata": {},
     "output_type": "display_data"
    }
   ],
   "source": [
    "square = np.ones(shape=(10,10),dtype=bool)\n",
    "result = plt.imshow(square)"
   ]
  },
  {
   "cell_type": "code",
   "execution_count": 1,
   "id": "c594faea",
   "metadata": {},
   "outputs": [],
   "source": [
    "def cadre(tab,*,inplace=True):\n",
    "    n,p = np.shape(tab)\n",
    "    if inplace:\n",
    "        new_tab = np.copy(tab)\n",
    "    else:\n",
    "        new_tab = tab\n",
    "    \n",
    "    new_tab[1,:] = np.zeros(shape=(1,p))\n",
    "    new_tab[n-2,:] = np.zeros(shape=(1,p))\n",
    "    new_tab[:,1] = np.zeros(shape=(1,n))\n",
    "    new_tab[:,p-2] = np.zeros(shape=(1,n))\n",
    "    \n",
    "    if not inplace:\n",
    "        return new_tab"
   ]
  }
 ],
 "metadata": {
  "kernelspec": {
   "display_name": "Python 3 (ipykernel)",
   "language": "python",
   "name": "python3"
  },
  "language_info": {
   "codemirror_mode": {
    "name": "ipython",
    "version": 3
   },
   "file_extension": ".py",
   "mimetype": "text/x-python",
   "name": "python",
   "nbconvert_exporter": "python",
   "pygments_lexer": "ipython3",
   "version": "3.9.12"
  }
 },
 "nbformat": 4,
 "nbformat_minor": 5
}
